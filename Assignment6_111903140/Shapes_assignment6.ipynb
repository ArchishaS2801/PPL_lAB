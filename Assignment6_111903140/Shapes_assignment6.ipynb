{
 "cells": [
  {
   "cell_type": "code",
   "execution_count": 5,
   "metadata": {},
   "outputs": [],
   "source": [
    "class Shapes():\n",
    "    def __init__(self,shape_name,shape_sides,shape_vertices,shape_angle):\n",
    "        self.shape_name=shape_name\n",
    "        self.shape_sides=shape_sides\n",
    "        self.shape_vertices=shape_vertices\n",
    "        self.shape_angle=shape_angle\n",
    "        \n",
    "    def define(self):\n",
    "        print(\"The shape is\",self.shape_name,\"it has\",self.shape_sides,\"sides and\",self.shape_vertices,\"vertices; angle is:\",self.shape_angle)\n",
    "        "
   ]
  },
  {
   "cell_type": "code",
   "execution_count": 6,
   "metadata": {},
   "outputs": [],
   "source": [
    "class Circle(Shapes):\n",
    "    def __init__(self,shape_name,shape_sides,shape_vertices,shape_angle):\n",
    "        self.shape_name=shape_name\n",
    "        self.shape_sides=shape_sides\n",
    "        self.shape_vertices=shape_vertices\n",
    "        self.shape_angle=shape_angle\n",
    "        self.type=\"circle\"\n",
    "    "
   ]
  },
  {
   "cell_type": "code",
   "execution_count": 7,
   "metadata": {},
   "outputs": [
    {
     "name": "stdout",
     "output_type": "stream",
     "text": [
      "The shape is Circle it has 0 sides and 0 vertices; angle is: 360 degrees\n"
     ]
    }
   ],
   "source": [
    "circle=Circle(\"Circle\",0,0,\"360 degrees\")\n",
    "circle.define()"
   ]
  },
  {
   "cell_type": "code",
   "execution_count": 8,
   "metadata": {},
   "outputs": [],
   "source": [
    "class Triangle(Shapes):\n",
    "    def __init__(self,shape_name,shape_sides,shape_vertices,shape_angle):\n",
    "        self.shape_name=shape_name\n",
    "        self.shape_sides=shape_sides\n",
    "        self.shape_vertices=shape_vertices\n",
    "        self.shape_angle=shape_angle\n",
    "        self.type=\"triangle\""
   ]
  },
  {
   "cell_type": "code",
   "execution_count": 11,
   "metadata": {},
   "outputs": [
    {
     "name": "stdout",
     "output_type": "stream",
     "text": [
      "The shape is Triangle it has 3 sides and 3 vertices; angle is: 180 degrees\n"
     ]
    }
   ],
   "source": [
    "triangle=Triangle(\"Triangle\",3,3,\"180 degrees\")\n",
    "triangle.define()"
   ]
  },
  {
   "cell_type": "code",
   "execution_count": 10,
   "metadata": {},
   "outputs": [],
   "source": [
    "class Square(Shapes):\n",
    "    def __init__(self,shape_name,shape_sides,shape_vertices,shape_angle):\n",
    "        self.shape_name=shape_name\n",
    "        self.shape_sides=shape_sides\n",
    "        self.shape_vertices=shape_vertices\n",
    "        self.shape_angle=shape_angle\n",
    "        self.type=\"square\""
   ]
  },
  {
   "cell_type": "code",
   "execution_count": 12,
   "metadata": {},
   "outputs": [
    {
     "name": "stdout",
     "output_type": "stream",
     "text": [
      "The shape is Square it has 4 sides and 4 vertices; angle is: 360 degrees\n"
     ]
    }
   ],
   "source": [
    "square=Square(\"Square\",4,4,\"360 degrees\")\n",
    "square.define()"
   ]
  },
  {
   "cell_type": "code",
   "execution_count": 13,
   "metadata": {},
   "outputs": [],
   "source": [
    "class Rectangle(Shapes):\n",
    "    def __init__(self,shape_name,shape_sides,shape_vertices,shape_angle):\n",
    "        self.shape_name=shape_name\n",
    "        self.shape_sides=shape_sides\n",
    "        self.shape_vertices=shape_vertices\n",
    "        self.shape_angle=shape_angle\n",
    "        self.type=\"rectangle\""
   ]
  },
  {
   "cell_type": "code",
   "execution_count": 14,
   "metadata": {},
   "outputs": [
    {
     "name": "stdout",
     "output_type": "stream",
     "text": [
      "The shape is Rectangle it has 4 sides and 4 vertices; angle is: 360 degrees\n"
     ]
    }
   ],
   "source": [
    "rectangle=Rectangle(\"Rectangle\",4,4,\"360 degrees\")\n",
    "rectangle.define()"
   ]
  },
  {
   "cell_type": "code",
   "execution_count": 15,
   "metadata": {},
   "outputs": [],
   "source": [
    "class Pentagon(Shapes):\n",
    "    def __init__(self,shape_name,shape_sides,shape_vertices,shape_angle):\n",
    "        self.shape_name=shape_name\n",
    "        self.shape_sides=shape_sides\n",
    "        self.shape_vertices=shape_vertices\n",
    "        self.shape_angle=shape_angle\n",
    "        self.type=\"pentagon\""
   ]
  },
  {
   "cell_type": "code",
   "execution_count": 16,
   "metadata": {},
   "outputs": [
    {
     "name": "stdout",
     "output_type": "stream",
     "text": [
      "The shape is Pentagon it has 5 sides and 5 vertices; angle is: 360 degrees\n"
     ]
    }
   ],
   "source": [
    "pentagon=Pentagon(\"Pentagon\",5,5,\"360 degrees\")\n",
    "pentagon.define()"
   ]
  },
  {
   "cell_type": "code",
   "execution_count": 17,
   "metadata": {},
   "outputs": [],
   "source": [
    "class Hexagon(Shapes):\n",
    "    def __init__(self,shape_name,shape_sides,shape_vertices,shape_angle):\n",
    "        self.shape_name=shape_name\n",
    "        self.shape_sides=shape_sides\n",
    "        self.shape_vertices=shape_vertices\n",
    "        self.shape_angle=shape_angle\n",
    "        self.type=\"hexagon\""
   ]
  },
  {
   "cell_type": "code",
   "execution_count": 18,
   "metadata": {},
   "outputs": [
    {
     "name": "stdout",
     "output_type": "stream",
     "text": [
      "The shape is Hexagon it has 6 sides and 6 vertices; angle is: 360 degrees\n"
     ]
    }
   ],
   "source": [
    "hexagon=Hexagon(\"Hexagon\",6,6,\"360 degrees\")\n",
    "hexagon.define()"
   ]
  },
  {
   "cell_type": "code",
   "execution_count": 19,
   "metadata": {},
   "outputs": [],
   "source": [
    "class Septagon(Shapes):\n",
    "    def __init__(self,shape_name,shape_sides,shape_vertices,shape_angle):\n",
    "        self.shape_name=shape_name\n",
    "        self.shape_sides=shape_sides\n",
    "        self.shape_vertices=shape_vertices\n",
    "        self.shape_angle=shape_angle\n",
    "        self.type=\"septagon\""
   ]
  },
  {
   "cell_type": "code",
   "execution_count": 20,
   "metadata": {},
   "outputs": [
    {
     "name": "stdout",
     "output_type": "stream",
     "text": [
      "The shape is Septagon it has 7 sides and 7 vertices; angle is: 360 degrees\n"
     ]
    }
   ],
   "source": [
    "septagon=Septagon(\"Septagon\",7,7,\"360 degrees\")\n",
    "septagon.define()"
   ]
  },
  {
   "cell_type": "code",
   "execution_count": 21,
   "metadata": {},
   "outputs": [],
   "source": [
    "class Octagon(Shapes):\n",
    "    def __init__(self,shape_name,shape_sides,shape_vertices,shape_angle):\n",
    "        self.shape_name=shape_name\n",
    "        self.shape_sides=shape_sides\n",
    "        self.shape_vertices=shape_vertices\n",
    "        self.shape_angle=shape_angle\n",
    "        self.type=\"octagon\""
   ]
  },
  {
   "cell_type": "code",
   "execution_count": 22,
   "metadata": {},
   "outputs": [
    {
     "name": "stdout",
     "output_type": "stream",
     "text": [
      "The shape is Octagon it has 8 sides and 8 vertices; angle is: 360 degrees\n"
     ]
    }
   ],
   "source": [
    "octagon=Octagon(\"Octagon\",8,8,\"360 degrees\")\n",
    "octagon.define()"
   ]
  },
  {
   "cell_type": "code",
   "execution_count": 23,
   "metadata": {},
   "outputs": [],
   "source": [
    "class Nonagon(Shapes):\n",
    "    def __init__(self,shape_name,shape_sides,shape_vertices,shape_angle):\n",
    "        self.shape_name=shape_name\n",
    "        self.shape_sides=shape_sides\n",
    "        self.shape_vertices=shape_vertices\n",
    "        self.shape_angle=shape_angle\n",
    "        self.type=\"nonagon\""
   ]
  },
  {
   "cell_type": "code",
   "execution_count": 24,
   "metadata": {},
   "outputs": [
    {
     "name": "stdout",
     "output_type": "stream",
     "text": [
      "The shape is Nonagon it has 9 sides and 9 vertices; angle is: 360 degrees\n"
     ]
    }
   ],
   "source": [
    "nonagon=Nonagon(\"Nonagon\",9,9,\"360 degrees\")\n",
    "nonagon.define()"
   ]
  },
  {
   "cell_type": "code",
   "execution_count": 25,
   "metadata": {},
   "outputs": [],
   "source": [
    "class Decagon(Shapes):\n",
    "    def __init__(self,shape_name,shape_sides,shape_vertices,shape_angle):\n",
    "        self.shape_name=shape_name\n",
    "        self.shape_sides=shape_sides\n",
    "        self.shape_vertices=shape_vertices\n",
    "        self.shape_angle=shape_angle\n",
    "        self.type=\"decagon\""
   ]
  },
  {
   "cell_type": "code",
   "execution_count": 26,
   "metadata": {},
   "outputs": [
    {
     "name": "stdout",
     "output_type": "stream",
     "text": [
      "The shape is Decagon it has 10 sides and 10 vertices; angle is: 360 degrees\n"
     ]
    }
   ],
   "source": [
    "decagon=Decagon(\"Decagon\",10,10,\"360 degrees\")\n",
    "decagon.define()"
   ]
  },
  {
   "cell_type": "code",
   "execution_count": null,
   "metadata": {},
   "outputs": [],
   "source": []
  }
 ],
 "metadata": {
  "kernelspec": {
   "display_name": "Python 3",
   "language": "python",
   "name": "python3"
  },
  "language_info": {
   "codemirror_mode": {
    "name": "ipython",
    "version": 3
   },
   "file_extension": ".py",
   "mimetype": "text/x-python",
   "name": "python",
   "nbconvert_exporter": "python",
   "pygments_lexer": "ipython3",
   "version": "3.6.9"
  }
 },
 "nbformat": 4,
 "nbformat_minor": 2
}
