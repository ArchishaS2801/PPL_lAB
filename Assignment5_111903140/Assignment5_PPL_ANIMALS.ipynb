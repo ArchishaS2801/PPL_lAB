{
 "cells": [
  {
   "cell_type": "code",
   "execution_count": 15,
   "metadata": {},
   "outputs": [],
   "source": [
    "class Animal():\n",
    "    def __init__(self,animal_name,animal_type,no_of_legs,animal_sound):\n",
    "        self.animal_name=animal_name\n",
    "        self.no_of_legs=no_of_legs\n",
    "        self.animal_sound=animal_sound\n",
    "        self.animal_type=animal_type\n",
    "        \n",
    "    def speak(self):\n",
    "        print(\"I am\",self.animal_name,\"and I am a\",self.animal_type,\"who loves making the sound\",self.animal_sound,\"I have\",self.no_of_legs,\"legs.\")\n"
   ]
  },
  {
   "cell_type": "code",
   "execution_count": 10,
   "metadata": {},
   "outputs": [],
   "source": [
    "class Dog(Animal):\n",
    "    def __init__(self,animal_name,animal_type,no_of_legs,animal_sound):\n",
    "        self.animal_name=animal_name\n",
    "        self.no_of_legs=no_of_legs\n",
    "        self.animal_sound=animal_sound\n",
    "        self.animal_type=animal_type\n",
    "        self.type=\"dog\"\n",
    "        \n",
    "    "
   ]
  },
  {
   "cell_type": "code",
   "execution_count": 18,
   "metadata": {},
   "outputs": [
    {
     "name": "stdout",
     "output_type": "stream",
     "text": [
      "I am  Cheddar and I am a dog who loves making the sound woof woof I have 4 legs\n"
     ]
    }
   ],
   "source": [
    "cheddar=Dog(\"Cheddar\",\"dog\",4,\"woof woof\")\n",
    "cheddar.speak()"
   ]
  },
  {
   "cell_type": "code",
   "execution_count": 19,
   "metadata": {},
   "outputs": [],
   "source": [
    "class Cat(Animal):\n",
    "    def __init__(self,animal_name,animal_type,no_of_legs,animal_sound):\n",
    "        self.animal_name=animal_name\n",
    "        self.no_of_legs=no_of_legs\n",
    "        self.animal_sound=animal_sound\n",
    "        self.animal_type=animal_type\n",
    "        self.type=\"cat\""
   ]
  },
  {
   "cell_type": "code",
   "execution_count": 20,
   "metadata": {},
   "outputs": [
    {
     "name": "stdout",
     "output_type": "stream",
     "text": [
      "I am  Thunder and I am a cat who loves making the sound meaw-meaw I have 4 legs.\n"
     ]
    }
   ],
   "source": [
    "thunder=Cat(\"Thunder\",\"cat\",4,\"meaw-meaw\")\n",
    "thunder.speak()"
   ]
  },
  {
   "cell_type": "code",
   "execution_count": 21,
   "metadata": {},
   "outputs": [],
   "source": [
    "class Bird(Animal):\n",
    "    def __init__(self,animal_name,animal_type,no_of_legs,animal_sound):\n",
    "        self.animal_name=animal_name\n",
    "        self.no_of_legs=no_of_legs\n",
    "        self.animal_sound=animal_sound\n",
    "        self.animal_type=animal_type\n",
    "        self.type=\"bird\""
   ]
  },
  {
   "cell_type": "code",
   "execution_count": 22,
   "metadata": {},
   "outputs": [
    {
     "name": "stdout",
     "output_type": "stream",
     "text": [
      "I am  Raven and I am a bird who loves making the sound koo-koo I have 2 legs.\n"
     ]
    }
   ],
   "source": [
    "raven=Cat(\"Raven\",\"bird\",2,\"koo-koo\")\n",
    "raven.speak()"
   ]
  },
  {
   "cell_type": "code",
   "execution_count": 23,
   "metadata": {},
   "outputs": [],
   "source": [
    "class Fish(Animal):\n",
    "    def __init__(self,animal_name,animal_type,no_of_legs,animal_sound):\n",
    "        self.animal_name=animal_name\n",
    "        self.no_of_legs=no_of_legs\n",
    "        self.animal_sound=animal_sound\n",
    "        self.animal_type=animal_type\n",
    "        self.type=\"fish\""
   ]
  },
  {
   "cell_type": "code",
   "execution_count": 24,
   "metadata": {},
   "outputs": [
    {
     "name": "stdout",
     "output_type": "stream",
     "text": [
      "I am  Nemo and I am a fish who loves making the sound blub-blub I have 0 legs.\n"
     ]
    }
   ],
   "source": [
    "nemo=Fish(\"Nemo\",\"fish\",0,\"blub-blub\")\n",
    "nemo.speak()"
   ]
  },
  {
   "cell_type": "code",
   "execution_count": 25,
   "metadata": {},
   "outputs": [],
   "source": [
    "class Monkey(Animal):\n",
    "    def __init__(self,animal_name,animal_type,no_of_legs,animal_sound):\n",
    "        self.animal_name=animal_name\n",
    "        self.no_of_legs=no_of_legs\n",
    "        self.animal_sound=animal_sound\n",
    "        self.animal_type=animal_type\n",
    "        self.type=\"monkey\""
   ]
  },
  {
   "cell_type": "code",
   "execution_count": 27,
   "metadata": {},
   "outputs": [
    {
     "name": "stdout",
     "output_type": "stream",
     "text": [
      "I am  Olaf and I am a monkey who loves making the sound oo ah ah I have 2 legs.\n"
     ]
    }
   ],
   "source": [
    "olaf=Monkey(\"Olaf\",\"monkey\",2,\"oo ah ah\")\n",
    "olaf.speak()"
   ]
  },
  {
   "cell_type": "code",
   "execution_count": 28,
   "metadata": {},
   "outputs": [],
   "source": [
    "class Fox(Animal):\n",
    "    def __init__(self,animal_name,animal_type,no_of_legs,animal_sound):\n",
    "        self.animal_name=animal_name\n",
    "        self.no_of_legs=no_of_legs\n",
    "        self.animal_sound=animal_sound\n",
    "        self.animal_type=animal_type\n",
    "        self.type=\"fox\""
   ]
  },
  {
   "cell_type": "code",
   "execution_count": 29,
   "metadata": {},
   "outputs": [
    {
     "name": "stdout",
     "output_type": "stream",
     "text": [
      "I am  Gina and I am a fox who loves making the sound ow-wow-wow-wow I have 4 legs.\n"
     ]
    }
   ],
   "source": [
    "gina=Fox(\"Gina\",\"fox\",4,\"ow-wow-wow-wow\")\n",
    "gina.speak()"
   ]
  },
  {
   "cell_type": "code",
   "execution_count": 30,
   "metadata": {},
   "outputs": [],
   "source": [
    "class Turtle(Animal):\n",
    "    def __init__(self,animal_name,animal_type,no_of_legs,animal_sound):\n",
    "        self.animal_name=animal_name\n",
    "        self.no_of_legs=no_of_legs\n",
    "        self.animal_sound=animal_sound\n",
    "        self.animal_type=animal_type\n",
    "        self.type=\"turtle\""
   ]
  },
  {
   "cell_type": "code",
   "execution_count": 31,
   "metadata": {},
   "outputs": [
    {
     "name": "stdout",
     "output_type": "stream",
     "text": [
      "I am  Oogway and I am a turtle who loves making the sound sss-ssss-ss I have 4 legs.\n"
     ]
    }
   ],
   "source": [
    "oogway=Turtle(\"Oogway\",\"turtle\",4,\"sss-ssss-ss\")\n",
    "oogway.speak()"
   ]
  },
  {
   "cell_type": "code",
   "execution_count": 32,
   "metadata": {},
   "outputs": [],
   "source": [
    "class Snake(Animal):\n",
    "    def __init__(self,animal_name,animal_type,no_of_legs,animal_sound):\n",
    "        self.animal_name=animal_name\n",
    "        self.no_of_legs=no_of_legs\n",
    "        self.animal_sound=animal_sound\n",
    "        self.animal_type=animal_type\n",
    "        self.type=\"snake\""
   ]
  },
  {
   "cell_type": "code",
   "execution_count": 33,
   "metadata": {},
   "outputs": [
    {
     "name": "stdout",
     "output_type": "stream",
     "text": [
      "I am  Nagini and I am a snake who loves making the sound ssshh-sssshh-sshhh I have 0 legs.\n"
     ]
    }
   ],
   "source": [
    "nagini=Snake(\"Nagini\",\"snake\",0,\"ssshh-sssshh-sshhh\")\n",
    "nagini.speak()"
   ]
  },
  {
   "cell_type": "code",
   "execution_count": 34,
   "metadata": {},
   "outputs": [],
   "source": [
    "class Elephant(Animal):\n",
    "    def __init__(self,animal_name,animal_type,no_of_legs,animal_sound):\n",
    "        self.animal_name=animal_name\n",
    "        self.no_of_legs=no_of_legs\n",
    "        self.animal_sound=animal_sound\n",
    "        self.animal_type=animal_type\n",
    "        self.type=\"elephant\""
   ]
  },
  {
   "cell_type": "code",
   "execution_count": 35,
   "metadata": {},
   "outputs": [
    {
     "name": "stdout",
     "output_type": "stream",
     "text": [
      "I am  Dumbo and I am a elephant who loves making the sound pawooooo I have 4 legs.\n"
     ]
    }
   ],
   "source": [
    "dumbo=Elephant(\"Dumbo\",\"elephant\",4,\"pawooooo\")\n",
    "dumbo.speak()"
   ]
  },
  {
   "cell_type": "code",
   "execution_count": 36,
   "metadata": {},
   "outputs": [],
   "source": [
    "class Platypus(Animal):\n",
    "    def __init__(self,animal_name,animal_type,no_of_legs,animal_sound):\n",
    "        self.animal_name=animal_name\n",
    "        self.no_of_legs=no_of_legs\n",
    "        self.animal_sound=animal_sound\n",
    "        self.animal_type=animal_type\n",
    "        self.type=\"platypus\""
   ]
  },
  {
   "cell_type": "code",
   "execution_count": 37,
   "metadata": {},
   "outputs": [
    {
     "name": "stdout",
     "output_type": "stream",
     "text": [
      "I am  Perry and I am a platypus who loves making the sound krrr-krrr-krrr I have 4 legs.\n"
     ]
    }
   ],
   "source": [
    "perry=Platypus(\"Perry\",\"platypus\",4,\"krrr-krrr-krrr\")\n",
    "perry.speak()"
   ]
  },
  {
   "cell_type": "code",
   "execution_count": null,
   "metadata": {},
   "outputs": [],
   "source": []
  }
 ],
 "metadata": {
  "kernelspec": {
   "display_name": "Python 3",
   "language": "python",
   "name": "python3"
  },
  "language_info": {
   "codemirror_mode": {
    "name": "ipython",
    "version": 3
   },
   "file_extension": ".py",
   "mimetype": "text/x-python",
   "name": "python",
   "nbconvert_exporter": "python",
   "pygments_lexer": "ipython3",
   "version": "3.6.9"
  }
 },
 "nbformat": 4,
 "nbformat_minor": 2
}
